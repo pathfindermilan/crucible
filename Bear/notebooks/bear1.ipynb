{
 "cells": [
  {
   "cell_type": "markdown",
   "id": "setup_instructions",
   "metadata": {},
   "source": [
    "# Setup\n",
    "\n",
    "[https://crucible.dreadnode.io/challenges/bear1](https://crucible.dreadnode.io/challenges/bear1)"
   ]
  },
  {
   "metadata": {
    "ExecuteTime": {
     "end_time": "2024-12-30T19:55:51.833702Z",
     "start_time": "2024-12-30T19:55:51.828432Z"
    }
   },
   "cell_type": "code",
   "source": [
    "from dotenv import load_dotenv\n",
    "\n",
    "import matplotlib.pyplot as plt\n",
    "import pandas as pd\n",
    "import numpy as np\n",
    "import requests\n",
    "import sys\n",
    "import os\n",
    "\n",
    "notebook_path = os.getcwd()\n",
    "sys.path.append(os.path.dirname(notebook_path))\n",
    "load_dotenv()\n",
    "\n",
    "CRUCIBLE_API_KEY = os.getenv(\"API_KEY\")"
   ],
   "id": "3ca6f1d370b7e63",
   "outputs": [],
   "execution_count": 99
  },
  {
   "cell_type": "markdown",
   "id": "notebook_variables",
   "metadata": {},
   "source": "### `Set Notebook Variables`\n"
  },
  {
   "cell_type": "code",
   "id": "setup",
   "metadata": {
    "ExecuteTime": {
     "end_time": "2024-12-30T19:52:13.124149Z",
     "start_time": "2024-12-30T19:52:13.121754Z"
    }
   },
   "source": [
    "CHALLENGE = \"bear1\"\n",
    "CRUCIBLE_URL = \"https://crucible.dreadnode.io\"\n",
    "CHALLENGE_URL = \"https://bear1.crucible.dreadnode.io\"\n",
    "ARTIFACT_FILES = ['bear.csv']"
   ],
   "outputs": [],
   "execution_count": 88
  },
  {
   "metadata": {},
   "cell_type": "markdown",
   "source": "# Step 1: Import the Data",
   "id": "95ddb5323be02892"
  },
  {
   "metadata": {
    "ExecuteTime": {
     "end_time": "2024-12-30T19:52:14.681321Z",
     "start_time": "2024-12-30T19:52:14.667488Z"
    }
   },
   "cell_type": "code",
   "source": [
    "df = pd.read_csv('../data/bear.csv')\n",
    "df.head()"
   ],
   "id": "b041e0cd",
   "outputs": [
    {
     "data": {
      "text/plain": [
       "        tune     bear val\n",
       "0  22.552631   Kodiak   p\n",
       "1  82.061124  Grizzly   g\n",
       "2  94.895799    Black   Q\n",
       "3  62.180388    Panda   a\n",
       "4  41.193846    Black   L"
      ],
      "text/html": [
       "<div>\n",
       "<style scoped>\n",
       "    .dataframe tbody tr th:only-of-type {\n",
       "        vertical-align: middle;\n",
       "    }\n",
       "\n",
       "    .dataframe tbody tr th {\n",
       "        vertical-align: top;\n",
       "    }\n",
       "\n",
       "    .dataframe thead th {\n",
       "        text-align: right;\n",
       "    }\n",
       "</style>\n",
       "<table border=\"1\" class=\"dataframe\">\n",
       "  <thead>\n",
       "    <tr style=\"text-align: right;\">\n",
       "      <th></th>\n",
       "      <th>tune</th>\n",
       "      <th>bear</th>\n",
       "      <th>val</th>\n",
       "    </tr>\n",
       "  </thead>\n",
       "  <tbody>\n",
       "    <tr>\n",
       "      <th>0</th>\n",
       "      <td>22.552631</td>\n",
       "      <td>Kodiak</td>\n",
       "      <td>p</td>\n",
       "    </tr>\n",
       "    <tr>\n",
       "      <th>1</th>\n",
       "      <td>82.061124</td>\n",
       "      <td>Grizzly</td>\n",
       "      <td>g</td>\n",
       "    </tr>\n",
       "    <tr>\n",
       "      <th>2</th>\n",
       "      <td>94.895799</td>\n",
       "      <td>Black</td>\n",
       "      <td>Q</td>\n",
       "    </tr>\n",
       "    <tr>\n",
       "      <th>3</th>\n",
       "      <td>62.180388</td>\n",
       "      <td>Panda</td>\n",
       "      <td>a</td>\n",
       "    </tr>\n",
       "    <tr>\n",
       "      <th>4</th>\n",
       "      <td>41.193846</td>\n",
       "      <td>Black</td>\n",
       "      <td>L</td>\n",
       "    </tr>\n",
       "  </tbody>\n",
       "</table>\n",
       "</div>"
      ]
     },
     "execution_count": 89,
     "metadata": {},
     "output_type": "execute_result"
    }
   ],
   "execution_count": 89
  },
  {
   "cell_type": "markdown",
   "id": "cc47a6df",
   "metadata": {},
   "source": [
    "# Step 2: Understanding the Data\n",
    "\n",
    "### `Missing Values`"
   ]
  },
  {
   "cell_type": "code",
   "id": "c6712b82",
   "metadata": {
    "ExecuteTime": {
     "end_time": "2024-12-30T19:52:16.077789Z",
     "start_time": "2024-12-30T19:52:16.071829Z"
    }
   },
   "source": "df.isnull().sum()",
   "outputs": [
    {
     "data": {
      "text/plain": [
       "tune    0\n",
       "bear    0\n",
       "val     1\n",
       "dtype: int64"
      ]
     },
     "execution_count": 90,
     "metadata": {},
     "output_type": "execute_result"
    }
   ],
   "execution_count": 90
  },
  {
   "metadata": {
    "ExecuteTime": {
     "end_time": "2024-12-30T19:52:16.750447Z",
     "start_time": "2024-12-30T19:52:16.743655Z"
    }
   },
   "cell_type": "code",
   "source": "df[df['val'].isnull()]",
   "id": "a0790467878f2f06",
   "outputs": [
    {
     "data": {
      "text/plain": [
       "           tune bear  val\n",
       "8531  99.844511  Sun  NaN"
      ],
      "text/html": [
       "<div>\n",
       "<style scoped>\n",
       "    .dataframe tbody tr th:only-of-type {\n",
       "        vertical-align: middle;\n",
       "    }\n",
       "\n",
       "    .dataframe tbody tr th {\n",
       "        vertical-align: top;\n",
       "    }\n",
       "\n",
       "    .dataframe thead th {\n",
       "        text-align: right;\n",
       "    }\n",
       "</style>\n",
       "<table border=\"1\" class=\"dataframe\">\n",
       "  <thead>\n",
       "    <tr style=\"text-align: right;\">\n",
       "      <th></th>\n",
       "      <th>tune</th>\n",
       "      <th>bear</th>\n",
       "      <th>val</th>\n",
       "    </tr>\n",
       "  </thead>\n",
       "  <tbody>\n",
       "    <tr>\n",
       "      <th>8531</th>\n",
       "      <td>99.844511</td>\n",
       "      <td>Sun</td>\n",
       "      <td>NaN</td>\n",
       "    </tr>\n",
       "  </tbody>\n",
       "</table>\n",
       "</div>"
      ]
     },
     "execution_count": 91,
     "metadata": {},
     "output_type": "execute_result"
    }
   ],
   "execution_count": 91
  },
  {
   "cell_type": "markdown",
   "id": "c6a9eea1",
   "metadata": {},
   "source": "### `Analyzing Categorical Data`"
  },
  {
   "cell_type": "code",
   "id": "87bcfab8",
   "metadata": {
    "ExecuteTime": {
     "end_time": "2024-12-30T19:52:18.060877Z",
     "start_time": "2024-12-30T19:52:17.954264Z"
    }
   },
   "source": [
    "df['bear'].value_counts().plot(kind = \"bar\", title='Frequency of Bear Types')\n",
    "plt.xlabel('Number of Occurrences')\n",
    "plt.ylabel('Bear Type')\n",
    "plt.show()"
   ],
   "outputs": [
    {
     "data": {
      "text/plain": [
       "<Figure size 640x480 with 1 Axes>"
      ],
      "image/png": "[encoded data removed]"
     },
     "metadata": {},
     "output_type": "display_data"
    }
   ],
   "execution_count": 92
  },
  {
   "metadata": {},
   "cell_type": "markdown",
   "source": "### `Exploring Text Data`",
   "id": "6c9b524e"
  },
  {
   "cell_type": "code",
   "id": "60a57808",
   "metadata": {
    "ExecuteTime": {
     "end_time": "2024-12-30T19:52:19.213332Z",
     "start_time": "2024-12-30T19:52:19.208076Z"
    }
   },
   "source": [
    "unique_values = df['val'].nunique()\n",
    "unique_values"
   ],
   "outputs": [
    {
     "data": {
      "text/plain": [
       "64"
      ]
     },
     "execution_count": 93,
     "metadata": {},
     "output_type": "execute_result"
    }
   ],
   "execution_count": 93
  },
  {
   "cell_type": "markdown",
   "id": "9faece25",
   "metadata": {},
   "source": "# Step 3: Solving the Challenge"
  },
  {
   "cell_type": "code",
   "id": "d07e8d89",
   "metadata": {
    "ExecuteTime": {
     "end_time": "2024-12-30T19:52:20.513234Z",
     "start_time": "2024-12-30T19:52:20.500108Z"
    }
   },
   "source": [
    "bears = df.sort_values('tune', ascending=False).groupby('bear').head(1)\n",
    "bears = bears.sort_values('bear', ascending=True)\n",
    "print(bears)"
   ],
   "outputs": [
    {
     "name": "stdout",
     "output_type": "stream",
     "text": [
      "           tune        bear  val\n",
      "6718  99.974140       Black    {\n",
      "2712  99.973701       Brown    B\n",
      "4450  99.967065     Grizzly    A\n",
      "5667  99.949576      Kodiak    M\n",
      "2630  99.920626       Panda    B\n",
      "2828  99.905925       Polar    O\n",
      "1580  99.915939       Sloth    O\n",
      "7160  99.975820  Spectacled    }\n",
      "8531  99.844511         Sun  NaN\n"
     ]
    }
   ],
   "execution_count": 94
  },
  {
   "cell_type": "markdown",
   "id": "5de7cc3e",
   "metadata": {},
   "source": "### `Decoding the Flag`"
  },
  {
   "cell_type": "code",
   "id": "f5985405",
   "metadata": {
    "ExecuteTime": {
     "end_time": "2024-12-30T19:52:21.872102Z",
     "start_time": "2024-12-30T19:52:21.868507Z"
    }
   },
   "source": [
    "characters = list(top_bears['val'])\n",
    "secret_word = ''.join(character for character in characters if type(character) == str)"
   ],
   "outputs": [],
   "execution_count": 95
  },
  {
   "cell_type": "code",
   "id": "38b523ad",
   "metadata": {
    "ExecuteTime": {
     "end_time": "2024-12-30T19:52:22.468779Z",
     "start_time": "2024-12-30T19:52:22.464597Z"
    }
   },
   "source": [
    "secret_word = [c for c in secret_word if c not in ['{','}',' ']]\n",
    "secret_word = ''.join(secret_word)"
   ],
   "outputs": [],
   "execution_count": 96
  },
  {
   "cell_type": "markdown",
   "id": "submit_findings_label",
   "metadata": {},
   "source": "### `Submit Your Findings`"
  },
  {
   "cell_type": "code",
   "id": "submit_findings_code",
   "metadata": {
    "ExecuteTime": {
     "end_time": "2024-12-30T19:52:29.328618Z",
     "start_time": "2024-12-30T19:52:27.961869Z"
    }
   },
   "source": [
    "def query(input_data):\n",
    "    response = requests.post(\n",
    "        f\"{ CHALLENGE_URL }/score\",\n",
    "        headers={\"X-API-Key\": CRUCIBLE_API_KEY},\n",
    "        json={\"data\": input_data}\n",
    "    )\n",
    "    return response.json()\n",
    "response = query(secret_word)"
   ],
   "outputs": [],
   "execution_count": 97
  },
  {
   "cell_type": "code",
   "id": "submit_flag_code",
   "metadata": {
    "ExecuteTime": {
     "end_time": "2024-12-30T19:52:32.606484Z",
     "start_time": "2024-12-30T19:52:31.204645Z"
    }
   },
   "source": [
    "def submit_flag(flag):\n",
    "    url = f\"{CRUCIBLE_URL}/api/challenges/{CHALLENGE}/submit-flag\"\n",
    "    headers = {\"X-API-Key\": CRUCIBLE_API_KEY}\n",
    "    payload = {\"challenge\": CHALLENGE, \"flag\": flag}\n",
    "    response = requests.post(url, headers=headers, json=payload)\n",
    "    if response.status_code == 200:\n",
    "        if response.json().get(\"correct\") is True:\n",
    "            print(\"The flag was correct. Congrats!\")\n",
    "        else:\n",
    "            print(\"The flag was incorrect. Keep trying!\")\n",
    "    else:\n",
    "        print(\"There was an error submitting your flag\")\n",
    "        print(response.text)\n",
    "\n",
    "flag = response['flag']\n",
    "submit_flag(flag)"
   ],
   "outputs": [
    {
     "name": "stdout",
     "output_type": "stream",
     "text": [
      "The flag was correct. Congrats!\n"
     ]
    }
   ],
   "execution_count": 98
  }
 ],
 "metadata": {
  "kernelspec": {
   "display_name": ".venv",
   "language": "python",
   "name": "python3"
  },
  "language_info": {
   "codemirror_mode": {
    "name": "ipython",
    "version": 3
   },
   "file_extension": ".py",
   "mimetype": "text/x-python",
   "name": "python",
   "nbconvert_exporter": "python",
   "pygments_lexer": "ipython3",
   "version": "3.11.0rc1"
  }
 },
 "nbformat": 4,
 "nbformat_minor": 5
}
